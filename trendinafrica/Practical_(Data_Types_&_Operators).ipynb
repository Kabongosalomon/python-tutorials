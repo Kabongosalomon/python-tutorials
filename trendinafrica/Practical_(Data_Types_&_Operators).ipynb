{
  "nbformat": 4,
  "nbformat_minor": 0,
  "metadata": {
    "colab": {
      "name": " Practical (Data Types & Operators).ipynb",
      "provenance": [],
      "collapsed_sections": [],
      "include_colab_link": true
    },
    "kernelspec": {
      "name": "python3",
      "display_name": "Python 3"
    },
    "language_info": {
      "name": "python"
    }
  },
  "cells": [
    {
      "cell_type": "markdown",
      "metadata": {
        "id": "view-in-github",
        "colab_type": "text"
      },
      "source": [
        "<a href=\"https://colab.research.google.com/github/Kabongosalomon/python-tutorials/blob/main/trendinafrica/Practical_(Data_Types_%26_Operators).ipynb\" target=\"_parent\"><img src=\"https://colab.research.google.com/assets/colab-badge.svg\" alt=\"Open In Colab\"/></a>"
      ]
    },
    {
      "cell_type": "markdown",
      "metadata": {
        "id": "jZ2FFvd6eiE2"
      },
      "source": [
        "<img src=\"https://github.com/Kabongosalomon/python-tutorials/blob/main/trendinafrica/images/logo.png?raw=1\" align=\"center\" width=\"15%\">"
      ]
    },
    {
      "cell_type": "markdown",
      "metadata": {
        "id": "480RRb7ZbkiF"
      },
      "source": [
        "# Introduction\n",
        "Welcome to the first pratical session of Python thrend africa workshop, in the notebook we will have some exercices with different difficulty levels. \n",
        "\n",
        "We will mostly conver the following notions:\n",
        "\n",
        "- Variable Assignment\n",
        "- Working with variables \n",
        "- Arithmetic Operations (Addition, Subtraction, Multiplication, Division)\n",
        "- Relational Operators  (>, <, >=, <=, ==, !=)\n",
        "- Increment/Decrement Operators (+=, -=)\n",
        "- If else; Elif; Else; Nested if\n",
        "\n",
        "Please note that the main point of this sessions is to practice you newly acquired skills, not to reach to a 100% valid solution. \n",
        "\n",
        "Note: The solution are provided along with the exercises, but you will not learn by just opening it :)."
      ]
    },
    {
      "cell_type": "markdown",
      "metadata": {
        "id": "Yax-QMMmje08"
      },
      "source": [
        "## Exercices"
      ]
    },
    {
      "cell_type": "markdown",
      "metadata": {
        "id": "05JR-W0PlavB"
      },
      "source": [
        "### Easy"
      ]
    },
    {
      "cell_type": "markdown",
      "metadata": {
        "id": "AyCdEG2QjilZ"
      },
      "source": [
        "#### Q1. Write a program that given your `year_of_birth` and `current_year` return a custom output of your age"
      ]
    },
    {
      "cell_type": "code",
      "metadata": {
        "id": "sRXI6lzykFYw"
      },
      "source": [
        "# Your code here \n",
        "year_of_birth = ...\n",
        "\n",
        "current_year = ...\n"
      ],
      "execution_count": 11,
      "outputs": []
    },
    {
      "cell_type": "markdown",
      "metadata": {
        "id": "tpy-upfDEd1-"
      },
      "source": [
        "#### Solution. <font color='red'>Please expend this cell only if you have tried the question</font> "
      ]
    },
    {
      "cell_type": "code",
      "metadata": {
        "id": "byQY411_Egrm",
        "colab": {
          "base_uri": "https://localhost:8080/"
        },
        "outputId": "576fea0c-7170-44aa-d7e2-f482eed3fcd1"
      },
      "source": [
        "year_of_birth = 1993\n",
        "\n",
        "current_year = 2021\n",
        "print(f\"You are born in {year_of_birth} and since we are in {current_year}\")\n",
        "print(f\"You're {current_year - year_of_birth} years old :)\")"
      ],
      "execution_count": 14,
      "outputs": [
        {
          "output_type": "stream",
          "text": [
            "You are born in 1993 and since we are in 2021\n",
            "You're 28 years old :)\n"
          ],
          "name": "stdout"
        }
      ]
    },
    {
      "cell_type": "markdown",
      "metadata": {
        "id": "ZoAK2W4mE9Vh"
      },
      "source": [
        "#### Q2. Write a program that given list compute the `sum` and the `product` of it's content. Note: Make use of `+=` and `*=`"
      ]
    },
    {
      "cell_type": "code",
      "metadata": {
        "id": "c2uhZP9yE9Vo"
      },
      "source": [
        "# Your code here \n"
      ],
      "execution_count": null,
      "outputs": []
    },
    {
      "cell_type": "markdown",
      "metadata": {
        "id": "Aqk47pr9E9Vp"
      },
      "source": [
        "#### Solution. <font color='red'>Please expend this cell only if you have tried the question</font>"
      ]
    },
    {
      "cell_type": "code",
      "metadata": {
        "id": "92z8rxzsE9Vp",
        "colab": {
          "base_uri": "https://localhost:8080/"
        },
        "outputId": "1df2384f-154e-442d-f896-8852b9cb014d"
      },
      "source": [
        "list = [1, 5, 3, 11, 25]\n",
        "\n",
        "..."
      ],
      "execution_count": 24,
      "outputs": [
        {
          "output_type": "execute_result",
          "data": {
            "text/plain": [
              "Ellipsis"
            ]
          },
          "metadata": {
            "tags": []
          },
          "execution_count": 24
        }
      ]
    },
    {
      "cell_type": "markdown",
      "metadata": {
        "id": "4oKr7rx8E-gZ"
      },
      "source": [
        "#### Q3. TODO"
      ]
    },
    {
      "cell_type": "code",
      "metadata": {
        "id": "MN26W0_hE-gZ"
      },
      "source": [
        "# Your code here \n"
      ],
      "execution_count": null,
      "outputs": []
    },
    {
      "cell_type": "markdown",
      "metadata": {
        "id": "KNPYLAw5E-gZ"
      },
      "source": [
        "#### Solution. <font color='red'>Please expend this cell only if you have tried the question</font>"
      ]
    },
    {
      "cell_type": "code",
      "metadata": {
        "id": "XUAI9VK5E-ga"
      },
      "source": [
        ""
      ],
      "execution_count": null,
      "outputs": []
    },
    {
      "cell_type": "markdown",
      "metadata": {
        "id": "AlcOXzZ0E_H4"
      },
      "source": [
        "#### Q4. TODO"
      ]
    },
    {
      "cell_type": "code",
      "metadata": {
        "id": "H4yrIdgxE_H5"
      },
      "source": [
        "# Your code here \n"
      ],
      "execution_count": null,
      "outputs": []
    },
    {
      "cell_type": "markdown",
      "metadata": {
        "id": "El_RmmFIE_H5"
      },
      "source": [
        "#### Solution. <font color='red'>Please expend this cell only if you have tried the question</font>"
      ]
    },
    {
      "cell_type": "code",
      "metadata": {
        "id": "dV8PlEc-E_H5"
      },
      "source": [
        ""
      ],
      "execution_count": null,
      "outputs": []
    },
    {
      "cell_type": "markdown",
      "metadata": {
        "id": "Jei_Jyb2E_wn"
      },
      "source": [
        "#### Q5. TODO"
      ]
    },
    {
      "cell_type": "code",
      "metadata": {
        "id": "dd7aRSkJE_wn"
      },
      "source": [
        "# Your code here \n"
      ],
      "execution_count": null,
      "outputs": []
    },
    {
      "cell_type": "markdown",
      "metadata": {
        "id": "t6qUAaonE_wn"
      },
      "source": [
        "#### Solution. <font color='red'>Please expend this cell only if you have tried the question</font>"
      ]
    },
    {
      "cell_type": "code",
      "metadata": {
        "id": "DXL8ocUKE_wn"
      },
      "source": [
        ""
      ],
      "execution_count": null,
      "outputs": []
    },
    {
      "cell_type": "markdown",
      "metadata": {
        "id": "941oFiW2lkXo"
      },
      "source": [
        "### Medium"
      ]
    },
    {
      "cell_type": "markdown",
      "metadata": {
        "id": "yeXak4dtlrxa"
      },
      "source": [
        "#### Q1. Write a program that will control and decide who is able to buy a beer, using the following criteria :\n",
        "- The person should be above 18 years old \n",
        "- If the person is below 18 years, he should be accompanied by an elder that approve the transation  "
      ]
    },
    {
      "cell_type": "code",
      "metadata": {
        "id": "a1QCi7NoluQx"
      },
      "source": [
        "age = 15 \n",
        "accompagnied = False \n",
        "\n",
        "# Start coding here \n"
      ],
      "execution_count": 22,
      "outputs": []
    },
    {
      "cell_type": "markdown",
      "metadata": {
        "id": "wNJPDR8jlnfG"
      },
      "source": [
        "##### Solution <font color='red'>Please expend this cell only if you have tried the question</font>"
      ]
    },
    {
      "cell_type": "code",
      "metadata": {
        "id": "wIV2zBpVl4I5",
        "colab": {
          "base_uri": "https://localhost:8080/"
        },
        "outputId": "da44e745-f1d5-4498-a495-cbe4c3d03d33"
      },
      "source": [
        "# Potential Solution\n",
        "age = 20 \n",
        "accompagnied = False \n",
        "\n",
        "if age> 18:\n",
        "    print(\"Here we go, here is you beer !\")\n",
        "elif(accompagnied):\n",
        "    print(\"Sure, here you go.\")\n",
        "else:\n",
        "    print(\"Sorry, we are not able to sell to you. \")"
      ],
      "execution_count": 15,
      "outputs": [
        {
          "output_type": "stream",
          "text": [
            "Here we go, here is you beer !\n"
          ],
          "name": "stdout"
        }
      ]
    },
    {
      "cell_type": "markdown",
      "metadata": {
        "id": "CQ38JRZzFQg9"
      },
      "source": [
        "#### Q2. TODO"
      ]
    },
    {
      "cell_type": "code",
      "metadata": {
        "id": "-rdUUzm1FQg_"
      },
      "source": [
        "# Your code her"
      ],
      "execution_count": null,
      "outputs": []
    },
    {
      "cell_type": "markdown",
      "metadata": {
        "id": "9NjRxTumFQhA"
      },
      "source": [
        "##### Solution <font color='red'>Please expend this cell only if you have tried the question</font>"
      ]
    },
    {
      "cell_type": "code",
      "metadata": {
        "id": "s2qC8Sw_FQhA"
      },
      "source": [
        "# Solution"
      ],
      "execution_count": null,
      "outputs": []
    },
    {
      "cell_type": "markdown",
      "metadata": {
        "id": "-0Fs9GUoFRBH"
      },
      "source": [
        "#### Q3. TODO"
      ]
    },
    {
      "cell_type": "code",
      "metadata": {
        "id": "3CY3PtcAFRBH"
      },
      "source": [
        "# Your code her"
      ],
      "execution_count": null,
      "outputs": []
    },
    {
      "cell_type": "markdown",
      "metadata": {
        "id": "ncGCcqzaFRBI"
      },
      "source": [
        "##### Solution <font color='red'>Please expend this cell only if you have tried the question</font>"
      ]
    },
    {
      "cell_type": "code",
      "metadata": {
        "id": "bIwd0qFFFRBI"
      },
      "source": [
        "# Solution"
      ],
      "execution_count": null,
      "outputs": []
    },
    {
      "cell_type": "markdown",
      "metadata": {
        "id": "4PPa6dyiFRN5"
      },
      "source": [
        "#### Q4. TODO"
      ]
    },
    {
      "cell_type": "code",
      "metadata": {
        "id": "_ZYRllFEFRN6"
      },
      "source": [
        "# Your code her"
      ],
      "execution_count": null,
      "outputs": []
    },
    {
      "cell_type": "markdown",
      "metadata": {
        "id": "ScOkbpXfFRN6"
      },
      "source": [
        "##### Solution <font color='red'>Please expend this cell only if you have tried the question</font>"
      ]
    },
    {
      "cell_type": "code",
      "metadata": {
        "id": "OUlnsDo4FRN6"
      },
      "source": [
        "# Solution"
      ],
      "execution_count": null,
      "outputs": []
    },
    {
      "cell_type": "markdown",
      "metadata": {
        "id": "m6_ah11sFRie"
      },
      "source": [
        "#### Q5. TODO "
      ]
    },
    {
      "cell_type": "code",
      "metadata": {
        "id": "Lgdu0zHPFRie"
      },
      "source": [
        "# Your code her"
      ],
      "execution_count": null,
      "outputs": []
    },
    {
      "cell_type": "markdown",
      "metadata": {
        "id": "MRW-JhdcFRie"
      },
      "source": [
        "##### Solution <font color='red'>Please expend this cell only if you have tried the question</font>"
      ]
    },
    {
      "cell_type": "code",
      "metadata": {
        "id": "fOFP5Np7FRie"
      },
      "source": [
        "# Solution"
      ],
      "execution_count": null,
      "outputs": []
    },
    {
      "cell_type": "markdown",
      "metadata": {
        "id": "RIA3d_xLmCkY"
      },
      "source": [
        "### Difficult"
      ]
    },
    {
      "cell_type": "markdown",
      "metadata": {
        "id": "Nv7U9tvoEDh_"
      },
      "source": [
        "##### Q1. Write a program that will control and decide who is able to buy a beer, using the following criteria :\n",
        "- The person should be above 18 years old \n",
        "- If the person is below 18 years, he should be accompanied by an elder that approve the transation  "
      ]
    },
    {
      "cell_type": "code",
      "metadata": {
        "id": "b6TXWF-pmFW-"
      },
      "source": [
        "# your code here "
      ],
      "execution_count": null,
      "outputs": []
    },
    {
      "cell_type": "markdown",
      "metadata": {
        "id": "9OlEf3msFfCP"
      },
      "source": [
        "##### Solution <font color='red'>Please expend this cell only if you have tried the question</font>"
      ]
    },
    {
      "cell_type": "code",
      "metadata": {
        "id": "582wTRucFfCP"
      },
      "source": [
        "# Solution"
      ],
      "execution_count": null,
      "outputs": []
    },
    {
      "cell_type": "markdown",
      "metadata": {
        "id": "aQBS7JraFmQk"
      },
      "source": [
        "##### Q2. Given the value of `a`, `b` and `c`, find `x` using [the quadratic formula](https://en.wikipedia.org/wiki/Quadratic_equation) (Try to see if you handle the corner cases).\n",
        " $$x=\\frac{-b \\pm \\sqrt{b^{2}-4 a c}}{2 a}$$"
      ]
    },
    {
      "cell_type": "code",
      "metadata": {
        "id": "SyZbzEo6FmQk"
      },
      "source": [
        "# your code here "
      ],
      "execution_count": null,
      "outputs": []
    },
    {
      "cell_type": "markdown",
      "metadata": {
        "id": "-981WBjKFmQk"
      },
      "source": [
        "##### Solution <font color='red'>Please expend this cell only if you have tried the question</font>"
      ]
    },
    {
      "cell_type": "code",
      "metadata": {
        "id": "3d7UFoXcFmQk"
      },
      "source": [
        "# Solution"
      ],
      "execution_count": null,
      "outputs": []
    },
    {
      "cell_type": "markdown",
      "metadata": {
        "id": "VjzGddU8Fmnh"
      },
      "source": [
        "##### Q3. TODO"
      ]
    },
    {
      "cell_type": "code",
      "metadata": {
        "id": "XtlW2FYoFmni"
      },
      "source": [
        "# your code here "
      ],
      "execution_count": null,
      "outputs": []
    },
    {
      "cell_type": "markdown",
      "metadata": {
        "id": "Iu9Z2HqHFmni"
      },
      "source": [
        "##### Solution <font color='red'>Please expend this cell only if you have tried the question</font>"
      ]
    },
    {
      "cell_type": "code",
      "metadata": {
        "id": "jpT_M4f2Fmni"
      },
      "source": [
        "# Solution"
      ],
      "execution_count": null,
      "outputs": []
    },
    {
      "cell_type": "markdown",
      "metadata": {
        "id": "1doYS56qFmzZ"
      },
      "source": [
        "##### Q4. TODO"
      ]
    },
    {
      "cell_type": "code",
      "metadata": {
        "id": "XyVvWM1sFmzZ"
      },
      "source": [
        "# your code here "
      ],
      "execution_count": null,
      "outputs": []
    },
    {
      "cell_type": "markdown",
      "metadata": {
        "id": "EpPNeijcFmza"
      },
      "source": [
        "##### Solution <font color='red'>Please expend this cell only if you have tried the question</font>"
      ]
    },
    {
      "cell_type": "code",
      "metadata": {
        "id": "9IA9jwZTFmza"
      },
      "source": [
        "# Solution"
      ],
      "execution_count": null,
      "outputs": []
    },
    {
      "cell_type": "markdown",
      "metadata": {
        "id": "0zYAQ0ctFnEy"
      },
      "source": [
        "##### Q5. TODO"
      ]
    },
    {
      "cell_type": "code",
      "metadata": {
        "id": "Wy_DGYFgFnEz"
      },
      "source": [
        "# your code here "
      ],
      "execution_count": null,
      "outputs": []
    },
    {
      "cell_type": "markdown",
      "metadata": {
        "id": "GioFg7dxFnEz"
      },
      "source": [
        "##### Solution <font color='red'>Please expend this cell only if you have tried the question</font>"
      ]
    },
    {
      "cell_type": "code",
      "metadata": {
        "id": "gvvaiOojFnEz"
      },
      "source": [
        "# Solution"
      ],
      "execution_count": null,
      "outputs": []
    },
    {
      "cell_type": "markdown",
      "metadata": {
        "id": "61-MnWlZfV_R"
      },
      "source": [
        "# ---\n",
        "<h1>About the Authors:</h1> \n",
        "\n",
        "<a href=\"https://twitter.com/SalomonKabongo\">Salomon Kabongo</a>, doctoral candidate in computer science at <a href=\"https://www.uni-hannover.de/en/\">Leibniz Universität Hannover (LUH)</a> and a research assistant at the AI Future Lab of the <a href=\"https://leibniz-ai-lab.de/\">L3S research</a> center and the Data Science and Digital Libraries research group at TIB. His research focused on the use machine learning technique in the field of Natural Language Processing, learn more about him [here](https://skabongo.github.io/) or https://twitter.com/SalomonKabongo.\n",
        "\n",
        "**References :** \n",
        "  - \n",
        "  - \n",
        "\n",
        "Copyright &copy; 2021. This notebook and its source code are released under the terms of the <a href=\"https://www.apache.org/licenses/LICENSE-2.0\">Apache License 2.0</a>."
      ]
    }
  ]
}